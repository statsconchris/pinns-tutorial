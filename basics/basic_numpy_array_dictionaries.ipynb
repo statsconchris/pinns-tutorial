{
 "cells": [
  {
   "cell_type": "code",
   "execution_count": 28,
   "id": "7ba42cc5",
   "metadata": {},
   "outputs": [],
   "source": [
    "# Check how dictionaries and arrays interact\n",
    "\n",
    "import numpy as np\n",
    "grad={}\n",
    "multiple=[]\n",
    "grad[\"dA\" + str(0)] = np.array([2,3]) \n",
    "grad[\"dA\" + str(1)] = np.array([1,1]) "
   ]
  },
  {
   "cell_type": "code",
   "execution_count": 29,
   "id": "edb96b88",
   "metadata": {},
   "outputs": [
    {
     "data": {
      "text/plain": [
       "{'dA0': array([2, 3]), 'dA1': array([1, 1])}"
      ]
     },
     "execution_count": 29,
     "metadata": {},
     "output_type": "execute_result"
    }
   ],
   "source": [
    "grad"
   ]
  },
  {
   "cell_type": "code",
   "execution_count": 30,
   "id": "fe189a8e",
   "metadata": {},
   "outputs": [
    {
     "data": {
      "text/plain": [
       "[{'dA0': array([2, 3]), 'dA1': array([1, 1])}]"
      ]
     },
     "execution_count": 30,
     "metadata": {},
     "output_type": "execute_result"
    }
   ],
   "source": [
    "multiple.append(grad)\n",
    "multiple"
   ]
  },
  {
   "cell_type": "code",
   "execution_count": 31,
   "id": "e7242c3d",
   "metadata": {},
   "outputs": [],
   "source": [
    "# If we change the dictionary, e.g.,\n",
    "grad[\"dA\" + str(0)] = np.array([8,7]) "
   ]
  },
  {
   "cell_type": "code",
   "execution_count": 32,
   "id": "c36e80ea",
   "metadata": {},
   "outputs": [
    {
     "data": {
      "text/plain": [
       "[{'dA0': array([8, 7]), 'dA1': array([1, 1])}]"
      ]
     },
     "execution_count": 32,
     "metadata": {},
     "output_type": "execute_result"
    }
   ],
   "source": [
    "# The array is updated\n",
    "multiple"
   ]
  },
  {
   "cell_type": "code",
   "execution_count": 33,
   "id": "29c63d2d",
   "metadata": {},
   "outputs": [
    {
     "data": {
      "text/plain": [
       "[{'dA0': array([8, 7]), 'dA1': array([1, 1])},\n",
       " {'dA0': array([8, 7]), 'dA1': array([1, 1])}]"
      ]
     },
     "execution_count": 33,
     "metadata": {},
     "output_type": "execute_result"
    }
   ],
   "source": [
    "multiple.append(grad)\n",
    "multiple"
   ]
  },
  {
   "cell_type": "code",
   "execution_count": 35,
   "id": "24c0a486",
   "metadata": {},
   "outputs": [
    {
     "data": {
      "text/plain": [
       "array([9, 8])"
      ]
     },
     "execution_count": 35,
     "metadata": {},
     "output_type": "execute_result"
    }
   ],
   "source": [
    "# performing arithmetic operation with dictionaries\n",
    "multiple[0]['dA0']+multiple[1]['dA1']"
   ]
  }
 ],
 "metadata": {
  "kernelspec": {
   "display_name": "Python 3 (ipykernel)",
   "language": "python",
   "name": "python3"
  },
  "language_info": {
   "codemirror_mode": {
    "name": "ipython",
    "version": 3
   },
   "file_extension": ".py",
   "mimetype": "text/x-python",
   "name": "python",
   "nbconvert_exporter": "python",
   "pygments_lexer": "ipython3",
   "version": "3.12.4"
  }
 },
 "nbformat": 4,
 "nbformat_minor": 5
}
